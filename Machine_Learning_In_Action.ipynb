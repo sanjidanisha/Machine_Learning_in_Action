{
 "cells": [
  {
   "cell_type": "markdown",
   "metadata": {},
   "source": [
    "# Abstract \n",
    "The dataset that I have chosen is called \"Are Your Employees Burning out?\" The dataset portrays an understanding of what the burn rate might be for employees working from home during the pandemic for a product or service company. It gives an understanding of what factors might affect employee's burn rate. I chose this dataset because I was genuinely curious about how employees are feeling about working from home during a pandemic and whether or not they were they felt burned out because working remotely can cause mental fatigue and can cause stress as employers have much more expectations from the employees. After performing Linear Regression on this dataset, I plan on using Logistic Regression. Throughout this notebook, I plan to have a deeper understanding of what factors can affect an employee's burn rate while working from home during a pandemic. "
   ]
  },
  {
   "cell_type": "markdown",
   "metadata": {},
   "source": [
    "# Prepping the Regression Datasets \n",
    "The columns of this dataset display what other factors may affect the burn rate such as the date they joined the company, their gender, company type (service or product), WFH setup availability, which portrays if work from the home facility is available. Other factors include designation, which gives a number to the employee based on their designation of the work from an interval of [0,5] with 5 being the highest designation. Resource Allocation lists the amount of resource allocated to the employee to work such as the number of working hours from an interval of [1, 10] where a higher number indicates more resource. Mental Fatigue Score's interval is from [0,10],where 0.0 means no fatigue and 10.0 means completely fatigue. It describes the level of fatigue mentally the employee is facing. Lastly, there is burn rate which is the rate of burnout for each employee in the range of [0,1] where a higher value indicates more burnout. \n",
    "\n",
    "\n",
    "Here are the first 15 rows of my dataset. The rows that I will be working with for Linear Regression are \"Burn Rate\" and \"Mental Fatigue Score\". To recap, the mental fatigue score's range is from [0, 10] while burn rate's interval is from [0,1] and a higher number indicates higher burn rate and mental fatigue of the employee while working from home based on their other factors. \n"
   ]
  },
  {
   "cell_type": "code",
   "execution_count": 235,
   "metadata": {},
   "outputs": [
    {
     "data": {
      "text/html": [
       "<div>\n",
       "<style scoped>\n",
       "    .dataframe tbody tr th:only-of-type {\n",
       "        vertical-align: middle;\n",
       "    }\n",
       "\n",
       "    .dataframe tbody tr th {\n",
       "        vertical-align: top;\n",
       "    }\n",
       "\n",
       "    .dataframe thead th {\n",
       "        text-align: right;\n",
       "    }\n",
       "</style>\n",
       "<table border=\"1\" class=\"dataframe\">\n",
       "  <thead>\n",
       "    <tr style=\"text-align: right;\">\n",
       "      <th></th>\n",
       "      <th>Employee ID</th>\n",
       "      <th>Date of Joining</th>\n",
       "      <th>Gender</th>\n",
       "      <th>Company Type</th>\n",
       "      <th>WFH Setup Available</th>\n",
       "      <th>Designation</th>\n",
       "      <th>Resource Allocation</th>\n",
       "      <th>Mental Fatigue Score</th>\n",
       "      <th>Burn Rate</th>\n",
       "    </tr>\n",
       "  </thead>\n",
       "  <tbody>\n",
       "    <tr>\n",
       "      <th>0</th>\n",
       "      <td>fffe32003000360033003200</td>\n",
       "      <td>9/30/08</td>\n",
       "      <td>Female</td>\n",
       "      <td>Service</td>\n",
       "      <td>No</td>\n",
       "      <td>2</td>\n",
       "      <td>3.0</td>\n",
       "      <td>3.8</td>\n",
       "      <td>0.16</td>\n",
       "    </tr>\n",
       "    <tr>\n",
       "      <th>1</th>\n",
       "      <td>fffe3700360033003500</td>\n",
       "      <td>11/30/08</td>\n",
       "      <td>Male</td>\n",
       "      <td>Service</td>\n",
       "      <td>Yes</td>\n",
       "      <td>1</td>\n",
       "      <td>2.0</td>\n",
       "      <td>5.0</td>\n",
       "      <td>0.36</td>\n",
       "    </tr>\n",
       "    <tr>\n",
       "      <th>2</th>\n",
       "      <td>fffe31003300320037003900</td>\n",
       "      <td>3/10/08</td>\n",
       "      <td>Female</td>\n",
       "      <td>Product</td>\n",
       "      <td>Yes</td>\n",
       "      <td>2</td>\n",
       "      <td>NaN</td>\n",
       "      <td>5.8</td>\n",
       "      <td>0.49</td>\n",
       "    </tr>\n",
       "    <tr>\n",
       "      <th>3</th>\n",
       "      <td>fffe32003400380032003900</td>\n",
       "      <td>11/3/08</td>\n",
       "      <td>Male</td>\n",
       "      <td>Service</td>\n",
       "      <td>Yes</td>\n",
       "      <td>1</td>\n",
       "      <td>1.0</td>\n",
       "      <td>2.6</td>\n",
       "      <td>0.20</td>\n",
       "    </tr>\n",
       "    <tr>\n",
       "      <th>4</th>\n",
       "      <td>fffe31003900340031003600</td>\n",
       "      <td>7/24/08</td>\n",
       "      <td>Female</td>\n",
       "      <td>Service</td>\n",
       "      <td>No</td>\n",
       "      <td>3</td>\n",
       "      <td>7.0</td>\n",
       "      <td>6.9</td>\n",
       "      <td>0.52</td>\n",
       "    </tr>\n",
       "    <tr>\n",
       "      <th>5</th>\n",
       "      <td>fffe3300350037003500</td>\n",
       "      <td>11/26/08</td>\n",
       "      <td>Male</td>\n",
       "      <td>Product</td>\n",
       "      <td>Yes</td>\n",
       "      <td>2</td>\n",
       "      <td>4.0</td>\n",
       "      <td>3.6</td>\n",
       "      <td>0.29</td>\n",
       "    </tr>\n",
       "    <tr>\n",
       "      <th>6</th>\n",
       "      <td>fffe33003300340039003100</td>\n",
       "      <td>1/2/08</td>\n",
       "      <td>Female</td>\n",
       "      <td>Service</td>\n",
       "      <td>No</td>\n",
       "      <td>3</td>\n",
       "      <td>6.0</td>\n",
       "      <td>7.9</td>\n",
       "      <td>0.62</td>\n",
       "    </tr>\n",
       "    <tr>\n",
       "      <th>7</th>\n",
       "      <td>fffe32003600320037003400</td>\n",
       "      <td>10/31/08</td>\n",
       "      <td>Female</td>\n",
       "      <td>Service</td>\n",
       "      <td>Yes</td>\n",
       "      <td>2</td>\n",
       "      <td>4.0</td>\n",
       "      <td>4.4</td>\n",
       "      <td>0.33</td>\n",
       "    </tr>\n",
       "    <tr>\n",
       "      <th>8</th>\n",
       "      <td>fffe32003200300034003700</td>\n",
       "      <td>12/27/08</td>\n",
       "      <td>Female</td>\n",
       "      <td>Service</td>\n",
       "      <td>No</td>\n",
       "      <td>3</td>\n",
       "      <td>6.0</td>\n",
       "      <td>NaN</td>\n",
       "      <td>0.56</td>\n",
       "    </tr>\n",
       "    <tr>\n",
       "      <th>9</th>\n",
       "      <td>fffe31003600320030003200</td>\n",
       "      <td>3/9/08</td>\n",
       "      <td>Female</td>\n",
       "      <td>Product</td>\n",
       "      <td>No</td>\n",
       "      <td>3</td>\n",
       "      <td>6.0</td>\n",
       "      <td>NaN</td>\n",
       "      <td>0.67</td>\n",
       "    </tr>\n",
       "    <tr>\n",
       "      <th>10</th>\n",
       "      <td>fffe33003100330032003700</td>\n",
       "      <td>3/16/08</td>\n",
       "      <td>Male</td>\n",
       "      <td>Product</td>\n",
       "      <td>Yes</td>\n",
       "      <td>2</td>\n",
       "      <td>3.0</td>\n",
       "      <td>5.3</td>\n",
       "      <td>0.50</td>\n",
       "    </tr>\n",
       "    <tr>\n",
       "      <th>11</th>\n",
       "      <td>fffe3400310035003800</td>\n",
       "      <td>5/12/08</td>\n",
       "      <td>Male</td>\n",
       "      <td>Service</td>\n",
       "      <td>Yes</td>\n",
       "      <td>0</td>\n",
       "      <td>1.0</td>\n",
       "      <td>1.8</td>\n",
       "      <td>0.12</td>\n",
       "    </tr>\n",
       "    <tr>\n",
       "      <th>12</th>\n",
       "      <td>fffe32003100300030003700</td>\n",
       "      <td>1/20/08</td>\n",
       "      <td>Male</td>\n",
       "      <td>Service</td>\n",
       "      <td>Yes</td>\n",
       "      <td>2</td>\n",
       "      <td>5.0</td>\n",
       "      <td>NaN</td>\n",
       "      <td>0.40</td>\n",
       "    </tr>\n",
       "    <tr>\n",
       "      <th>13</th>\n",
       "      <td>fffe31003800330032003500</td>\n",
       "      <td>2/23/08</td>\n",
       "      <td>Female</td>\n",
       "      <td>Product</td>\n",
       "      <td>No</td>\n",
       "      <td>1</td>\n",
       "      <td>3.0</td>\n",
       "      <td>NaN</td>\n",
       "      <td>0.33</td>\n",
       "    </tr>\n",
       "    <tr>\n",
       "      <th>14</th>\n",
       "      <td>fffe33003100330036003300</td>\n",
       "      <td>5/14/08</td>\n",
       "      <td>Male</td>\n",
       "      <td>Product</td>\n",
       "      <td>Yes</td>\n",
       "      <td>1</td>\n",
       "      <td>3.0</td>\n",
       "      <td>5.8</td>\n",
       "      <td>0.51</td>\n",
       "    </tr>\n",
       "  </tbody>\n",
       "</table>\n",
       "</div>"
      ],
      "text/plain": [
       "                 Employee ID Date of Joining  Gender Company Type  \\\n",
       "0   fffe32003000360033003200         9/30/08  Female      Service   \n",
       "1       fffe3700360033003500        11/30/08    Male      Service   \n",
       "2   fffe31003300320037003900         3/10/08  Female      Product   \n",
       "3   fffe32003400380032003900         11/3/08    Male      Service   \n",
       "4   fffe31003900340031003600         7/24/08  Female      Service   \n",
       "5       fffe3300350037003500        11/26/08    Male      Product   \n",
       "6   fffe33003300340039003100          1/2/08  Female      Service   \n",
       "7   fffe32003600320037003400        10/31/08  Female      Service   \n",
       "8   fffe32003200300034003700        12/27/08  Female      Service   \n",
       "9   fffe31003600320030003200          3/9/08  Female      Product   \n",
       "10  fffe33003100330032003700         3/16/08    Male      Product   \n",
       "11      fffe3400310035003800         5/12/08    Male      Service   \n",
       "12  fffe32003100300030003700         1/20/08    Male      Service   \n",
       "13  fffe31003800330032003500         2/23/08  Female      Product   \n",
       "14  fffe33003100330036003300         5/14/08    Male      Product   \n",
       "\n",
       "   WFH Setup Available  Designation  Resource Allocation  \\\n",
       "0                   No            2                  3.0   \n",
       "1                  Yes            1                  2.0   \n",
       "2                  Yes            2                  NaN   \n",
       "3                  Yes            1                  1.0   \n",
       "4                   No            3                  7.0   \n",
       "5                  Yes            2                  4.0   \n",
       "6                   No            3                  6.0   \n",
       "7                  Yes            2                  4.0   \n",
       "8                   No            3                  6.0   \n",
       "9                   No            3                  6.0   \n",
       "10                 Yes            2                  3.0   \n",
       "11                 Yes            0                  1.0   \n",
       "12                 Yes            2                  5.0   \n",
       "13                  No            1                  3.0   \n",
       "14                 Yes            1                  3.0   \n",
       "\n",
       "    Mental Fatigue Score  Burn Rate  \n",
       "0                    3.8       0.16  \n",
       "1                    5.0       0.36  \n",
       "2                    5.8       0.49  \n",
       "3                    2.6       0.20  \n",
       "4                    6.9       0.52  \n",
       "5                    3.6       0.29  \n",
       "6                    7.9       0.62  \n",
       "7                    4.4       0.33  \n",
       "8                    NaN       0.56  \n",
       "9                    NaN       0.67  \n",
       "10                   5.3       0.50  \n",
       "11                   1.8       0.12  \n",
       "12                   NaN       0.40  \n",
       "13                   NaN       0.33  \n",
       "14                   5.8       0.51  "
      ]
     },
     "execution_count": 235,
     "metadata": {},
     "output_type": "execute_result"
    }
   ],
   "source": [
    "import pandas as pd\n",
    "\n",
    "employeeburn = pd.read_csv(\"/Users/nisha/Desktop/dataset2/train.csv\")\n",
    "\n",
    "employeeburn.head(15)"
   ]
  },
  {
   "cell_type": "markdown",
   "metadata": {},
   "source": [
    "Since I only need the \"Mental Fatigue Score\" and \"Burn Rate\" columns. I printed them out to focus on that. "
   ]
  },
  {
   "cell_type": "code",
   "execution_count": 236,
   "metadata": {},
   "outputs": [
    {
     "data": {
      "text/html": [
       "<div>\n",
       "<style scoped>\n",
       "    .dataframe tbody tr th:only-of-type {\n",
       "        vertical-align: middle;\n",
       "    }\n",
       "\n",
       "    .dataframe tbody tr th {\n",
       "        vertical-align: top;\n",
       "    }\n",
       "\n",
       "    .dataframe thead th {\n",
       "        text-align: right;\n",
       "    }\n",
       "</style>\n",
       "<table border=\"1\" class=\"dataframe\">\n",
       "  <thead>\n",
       "    <tr style=\"text-align: right;\">\n",
       "      <th></th>\n",
       "      <th>Mental Fatigue Score</th>\n",
       "      <th>Burn Rate</th>\n",
       "    </tr>\n",
       "  </thead>\n",
       "  <tbody>\n",
       "    <tr>\n",
       "      <th>0</th>\n",
       "      <td>3.8</td>\n",
       "      <td>0.16</td>\n",
       "    </tr>\n",
       "    <tr>\n",
       "      <th>1</th>\n",
       "      <td>5.0</td>\n",
       "      <td>0.36</td>\n",
       "    </tr>\n",
       "    <tr>\n",
       "      <th>2</th>\n",
       "      <td>2.6</td>\n",
       "      <td>0.20</td>\n",
       "    </tr>\n",
       "    <tr>\n",
       "      <th>3</th>\n",
       "      <td>6.9</td>\n",
       "      <td>0.52</td>\n",
       "    </tr>\n",
       "    <tr>\n",
       "      <th>4</th>\n",
       "      <td>3.6</td>\n",
       "      <td>0.29</td>\n",
       "    </tr>\n",
       "    <tr>\n",
       "      <th>5</th>\n",
       "      <td>7.9</td>\n",
       "      <td>0.62</td>\n",
       "    </tr>\n",
       "    <tr>\n",
       "      <th>6</th>\n",
       "      <td>4.4</td>\n",
       "      <td>0.33</td>\n",
       "    </tr>\n",
       "    <tr>\n",
       "      <th>7</th>\n",
       "      <td>5.3</td>\n",
       "      <td>0.50</td>\n",
       "    </tr>\n",
       "    <tr>\n",
       "      <th>8</th>\n",
       "      <td>1.8</td>\n",
       "      <td>0.12</td>\n",
       "    </tr>\n",
       "    <tr>\n",
       "      <th>9</th>\n",
       "      <td>5.8</td>\n",
       "      <td>0.51</td>\n",
       "    </tr>\n",
       "    <tr>\n",
       "      <th>10</th>\n",
       "      <td>4.7</td>\n",
       "      <td>0.32</td>\n",
       "    </tr>\n",
       "    <tr>\n",
       "      <th>11</th>\n",
       "      <td>5.9</td>\n",
       "      <td>0.39</td>\n",
       "    </tr>\n",
       "    <tr>\n",
       "      <th>12</th>\n",
       "      <td>6.7</td>\n",
       "      <td>0.59</td>\n",
       "    </tr>\n",
       "    <tr>\n",
       "      <th>13</th>\n",
       "      <td>4.0</td>\n",
       "      <td>0.22</td>\n",
       "    </tr>\n",
       "    <tr>\n",
       "      <th>14</th>\n",
       "      <td>7.6</td>\n",
       "      <td>0.57</td>\n",
       "    </tr>\n",
       "  </tbody>\n",
       "</table>\n",
       "</div>"
      ],
      "text/plain": [
       "    Mental Fatigue Score  Burn Rate\n",
       "0                    3.8       0.16\n",
       "1                    5.0       0.36\n",
       "2                    2.6       0.20\n",
       "3                    6.9       0.52\n",
       "4                    3.6       0.29\n",
       "5                    7.9       0.62\n",
       "6                    4.4       0.33\n",
       "7                    5.3       0.50\n",
       "8                    1.8       0.12\n",
       "9                    5.8       0.51\n",
       "10                   4.7       0.32\n",
       "11                   5.9       0.39\n",
       "12                   6.7       0.59\n",
       "13                   4.0       0.22\n",
       "14                   7.6       0.57"
      ]
     },
     "execution_count": 236,
     "metadata": {},
     "output_type": "execute_result"
    }
   ],
   "source": [
    "#taking only the mental fatique score and burn rate columns\n",
    "df_binary = df[['Mental Fatigue Score', 'Burn Rate']]\n",
    "#displays the data table \n",
    "df_binary.head(15)"
   ]
  },
  {
   "cell_type": "markdown",
   "metadata": {},
   "source": [
    "Here is what the scatter plot looks like.Due to all the points it looks a bit cluttered. But the dots are there. "
   ]
  },
  {
   "cell_type": "code",
   "execution_count": 237,
   "metadata": {},
   "outputs": [
    {
     "data": {
      "text/plain": [
       "<seaborn.axisgrid.FacetGrid at 0x1247e2ca0>"
      ]
     },
     "execution_count": 237,
     "metadata": {},
     "output_type": "execute_result"
    },
    {
     "data": {
      "image/png": "[encoded data removed]",
      "text/plain": [
       "<Figure size 360x360 with 1 Axes>"
      ]
     },
     "metadata": {
      "needs_background": "light"
     },
     "output_type": "display_data"
    }
   ],
   "source": [
    "import numpy as np\n",
    "import pandas as pd\n",
    "import seaborn as sns\n",
    "import matplotlib.pyplot as plt\n",
    "from sklearn import preprocessing, svm\n",
    "from sklearn.model_selection import train_test_split\n",
    "from sklearn.linear_model import LinearRegression\n",
    "\n",
    "\n",
    "#plots the data scatter \n",
    "sns.lmplot(x =\"Mental Fatigue Score\", y =\"Burn Rate\", data = df_binary, order = 2, ci = None)\n",
    "\n"
   ]
  },
  {
   "cell_type": "markdown",
   "metadata": {},
   "source": [
    "# Linear Regression"
   ]
  },
  {
   "cell_type": "code",
   "execution_count": 238,
   "metadata": {},
   "outputs": [
    {
     "name": "stdout",
     "output_type": "stream",
     "text": [
      "0.8940083898542867\n"
     ]
    },
    {
     "data": {
      "image/png": "[encoded data removed]",
      "text/plain": [
       "<Figure size 432x288 with 1 Axes>"
      ]
     },
     "metadata": {
      "needs_background": "light"
     },
     "output_type": "display_data"
    }
   ],
   "source": [
    "\n",
    "# # Converting each dataframe into a numpy array \n",
    "X = np.array(df_binary['Mental Fatigue Score']).reshape(-1, 1)\n",
    "y = np.array(df_binary['Burn Rate']).reshape(-1, 1)\n",
    "\n",
    "#drop any rows with NaN values\n",
    "df_binary.dropna(inplace = True)\n",
    "\n",
    "# Splitting the data into training and testing data\n",
    "X_train, X_test, y_train, y_test = train_test_split(X, y, test_size = 0.20)\n",
    "regr = LinearRegression()\n",
    "  \n",
    "regr.fit(X_train, y_train)\n",
    "print(regr.score(X_test, y_test))\n",
    "\n",
    "y_pred = regr.predict(X_test)\n",
    "plt.scatter(X_test, y_test, color ='b')\n",
    "plt.plot(X_test, y_pred, color ='k')\n",
    "  \n",
    "plt.show()"
   ]
  },
  {
   "cell_type": "markdown",
   "metadata": {},
   "source": [
    "The regression score aka R^2 or our error rate is 0.8940083898542867. R^2 gives us information about how fit the model is. Our R^2 value is 0.8940083898542867 using the entire dataset. An R^2 of 1 indicates that the regression predictions perfectly fit the data. If we round up, our data model is about 90% accurate and so it fits into the existing model about 90%. Since this number is very close to 1, my regression is a good fit and very effective in how mental fatigue can affect burn rate. The graph displays that Burn rate and Mental Fatigue Score have a linear relationship. So as the Mental Fatigue Score increases burn rate of employees also increases.   "
   ]
  },
  {
   "cell_type": "markdown",
   "metadata": {},
   "source": [
    "I wanted to see what the plot looks like a bit zoomed in. So I plotted the scaccer plot using less points from my dataset just to have a closer look. "
   ]
  },
  {
   "cell_type": "code",
   "execution_count": 243,
   "metadata": {
    "scrolled": true
   },
   "outputs": [
    {
     "data": {
      "text/plain": [
       "<seaborn.axisgrid.FacetGrid at 0x127862be0>"
      ]
     },
     "execution_count": 243,
     "metadata": {},
     "output_type": "execute_result"
    },
    {
     "data": {
      "image/png": "[encoded data removed]",
      "text/plain": [
       "<Figure size 360x360 with 1 Axes>"
      ]
     },
     "metadata": {
      "needs_background": "light"
     },
     "output_type": "display_data"
    }
   ],
   "source": [
    "df_binary600 = df_binary[:][:600]\n",
    "  \n",
    "# Selecting the 1st 500 rows of the data\n",
    "sns.lmplot(x =\"Mental Fatigue Score\", y =\"Burn Rate\", data = df_binary500,\n",
    "                               order = 2, ci = None)\n",
    "\n",
    "\n"
   ]
  },
  {
   "cell_type": "code",
   "execution_count": 244,
   "metadata": {},
   "outputs": [
    {
     "name": "stdout",
     "output_type": "stream",
     "text": [
      "0.8930398982389869\n"
     ]
    },
    {
     "data": {
      "image/png": "[encoded data removed]",
      "text/plain": [
       "<Figure size 432x288 with 1 Axes>"
      ]
     },
     "metadata": {
      "needs_background": "light"
     },
     "output_type": "display_data"
    }
   ],
   "source": [
    "df_binary600.fillna(method ='ffill', inplace = True)\n",
    "  \n",
    "X = np.array(df_binary600['Mental Fatigue Score']).reshape(-1, 1)\n",
    "y = np.array(df_binary600['Burn Rate']).reshape(-1, 1)\n",
    "  \n",
    "df_binary500.dropna(inplace = True)\n",
    "X_train, X_test, y_train, y_test = train_test_split(X, y, test_size = 0.25)\n",
    "  \n",
    "regr = LinearRegression()\n",
    "regr.fit(X_train, y_train)\n",
    "print(regr.score(X_test, y_test))\n",
    "\n",
    "y_pred = regr.predict(X_test)\n",
    "plt.scatter(X_test, y_test, color ='b')\n",
    "plt.plot(X_test, y_pred, color ='k')\n",
    "  \n",
    "plt.show()\n"
   ]
  },
  {
   "cell_type": "markdown",
   "metadata": {},
   "source": [
    "Considering only the first 600 datasets actually didn't increase our regression value. It bought it down a bit. Therefore, using fewer vales didn't make out regression line more accurate. So, it can be concluded that the more data points we have the more accurate our regression will be in this case."
   ]
  },
  {
   "cell_type": "markdown",
   "metadata": {},
   "source": [
    "# Prepping the classification dataset\n",
    "\n",
    "I am going to be using the same dataset to perform a model of Classification on the dataset. The classification I will be performing is Logistic Regression. I have dropped the first two columns, \"Employee ID\" and \"Date of Joining\" because I will not be working with those columns. I have also dropped all the rows that had Nan data. This was an important part of prepping the data as without doing this many problems would arise and our results wouldn't be accurate. I also filled in the missing values with the column mean. I did this for \"Resource Allocation\" and \"Mental Fatigue Score\". One last thing I did to prep this dataset is replaced all the strings with Binary encoding numbers. Here is what the clean data looks like for classification.  "
   ]
  },
  {
   "cell_type": "code",
   "execution_count": 248,
   "metadata": {},
   "outputs": [
    {
     "data": {
      "text/html": [
       "<div>\n",
       "<style scoped>\n",
       "    .dataframe tbody tr th:only-of-type {\n",
       "        vertical-align: middle;\n",
       "    }\n",
       "\n",
       "    .dataframe tbody tr th {\n",
       "        vertical-align: top;\n",
       "    }\n",
       "\n",
       "    .dataframe thead th {\n",
       "        text-align: right;\n",
       "    }\n",
       "</style>\n",
       "<table border=\"1\" class=\"dataframe\">\n",
       "  <thead>\n",
       "    <tr style=\"text-align: right;\">\n",
       "      <th></th>\n",
       "      <th>Gender</th>\n",
       "      <th>Company Type</th>\n",
       "      <th>WFH Setup Available</th>\n",
       "      <th>Designation</th>\n",
       "      <th>Resource Allocation</th>\n",
       "      <th>Mental Fatigue Score</th>\n",
       "      <th>Burn Rate</th>\n",
       "    </tr>\n",
       "  </thead>\n",
       "  <tbody>\n",
       "    <tr>\n",
       "      <th>0</th>\n",
       "      <td>0</td>\n",
       "      <td>1</td>\n",
       "      <td>0</td>\n",
       "      <td>2</td>\n",
       "      <td>3.0</td>\n",
       "      <td>3.8</td>\n",
       "      <td>0.16</td>\n",
       "    </tr>\n",
       "    <tr>\n",
       "      <th>1</th>\n",
       "      <td>1</td>\n",
       "      <td>1</td>\n",
       "      <td>1</td>\n",
       "      <td>1</td>\n",
       "      <td>2.0</td>\n",
       "      <td>5.0</td>\n",
       "      <td>0.36</td>\n",
       "    </tr>\n",
       "    <tr>\n",
       "      <th>2</th>\n",
       "      <td>1</td>\n",
       "      <td>1</td>\n",
       "      <td>1</td>\n",
       "      <td>1</td>\n",
       "      <td>1.0</td>\n",
       "      <td>2.6</td>\n",
       "      <td>0.20</td>\n",
       "    </tr>\n",
       "    <tr>\n",
       "      <th>3</th>\n",
       "      <td>0</td>\n",
       "      <td>1</td>\n",
       "      <td>0</td>\n",
       "      <td>3</td>\n",
       "      <td>7.0</td>\n",
       "      <td>6.9</td>\n",
       "      <td>0.52</td>\n",
       "    </tr>\n",
       "    <tr>\n",
       "      <th>4</th>\n",
       "      <td>1</td>\n",
       "      <td>0</td>\n",
       "      <td>1</td>\n",
       "      <td>2</td>\n",
       "      <td>4.0</td>\n",
       "      <td>3.6</td>\n",
       "      <td>0.29</td>\n",
       "    </tr>\n",
       "    <tr>\n",
       "      <th>5</th>\n",
       "      <td>0</td>\n",
       "      <td>1</td>\n",
       "      <td>0</td>\n",
       "      <td>3</td>\n",
       "      <td>6.0</td>\n",
       "      <td>7.9</td>\n",
       "      <td>0.62</td>\n",
       "    </tr>\n",
       "    <tr>\n",
       "      <th>6</th>\n",
       "      <td>0</td>\n",
       "      <td>1</td>\n",
       "      <td>1</td>\n",
       "      <td>2</td>\n",
       "      <td>4.0</td>\n",
       "      <td>4.4</td>\n",
       "      <td>0.33</td>\n",
       "    </tr>\n",
       "    <tr>\n",
       "      <th>7</th>\n",
       "      <td>1</td>\n",
       "      <td>0</td>\n",
       "      <td>1</td>\n",
       "      <td>2</td>\n",
       "      <td>3.0</td>\n",
       "      <td>5.3</td>\n",
       "      <td>0.50</td>\n",
       "    </tr>\n",
       "    <tr>\n",
       "      <th>8</th>\n",
       "      <td>1</td>\n",
       "      <td>1</td>\n",
       "      <td>1</td>\n",
       "      <td>0</td>\n",
       "      <td>1.0</td>\n",
       "      <td>1.8</td>\n",
       "      <td>0.12</td>\n",
       "    </tr>\n",
       "    <tr>\n",
       "      <th>9</th>\n",
       "      <td>1</td>\n",
       "      <td>0</td>\n",
       "      <td>1</td>\n",
       "      <td>1</td>\n",
       "      <td>3.0</td>\n",
       "      <td>5.8</td>\n",
       "      <td>0.51</td>\n",
       "    </tr>\n",
       "    <tr>\n",
       "      <th>10</th>\n",
       "      <td>0</td>\n",
       "      <td>1</td>\n",
       "      <td>1</td>\n",
       "      <td>3</td>\n",
       "      <td>5.0</td>\n",
       "      <td>4.7</td>\n",
       "      <td>0.32</td>\n",
       "    </tr>\n",
       "    <tr>\n",
       "      <th>11</th>\n",
       "      <td>1</td>\n",
       "      <td>1</td>\n",
       "      <td>1</td>\n",
       "      <td>1</td>\n",
       "      <td>2.0</td>\n",
       "      <td>5.9</td>\n",
       "      <td>0.39</td>\n",
       "    </tr>\n",
       "    <tr>\n",
       "      <th>12</th>\n",
       "      <td>1</td>\n",
       "      <td>1</td>\n",
       "      <td>0</td>\n",
       "      <td>3</td>\n",
       "      <td>6.0</td>\n",
       "      <td>6.7</td>\n",
       "      <td>0.59</td>\n",
       "    </tr>\n",
       "    <tr>\n",
       "      <th>13</th>\n",
       "      <td>0</td>\n",
       "      <td>0</td>\n",
       "      <td>1</td>\n",
       "      <td>2</td>\n",
       "      <td>4.0</td>\n",
       "      <td>4.0</td>\n",
       "      <td>0.22</td>\n",
       "    </tr>\n",
       "    <tr>\n",
       "      <th>14</th>\n",
       "      <td>1</td>\n",
       "      <td>0</td>\n",
       "      <td>0</td>\n",
       "      <td>2</td>\n",
       "      <td>4.0</td>\n",
       "      <td>7.6</td>\n",
       "      <td>0.57</td>\n",
       "    </tr>\n",
       "  </tbody>\n",
       "</table>\n",
       "</div>"
      ],
      "text/plain": [
       "    Gender  Company Type  WFH Setup Available  Designation  \\\n",
       "0        0             1                    0            2   \n",
       "1        1             1                    1            1   \n",
       "2        1             1                    1            1   \n",
       "3        0             1                    0            3   \n",
       "4        1             0                    1            2   \n",
       "5        0             1                    0            3   \n",
       "6        0             1                    1            2   \n",
       "7        1             0                    1            2   \n",
       "8        1             1                    1            0   \n",
       "9        1             0                    1            1   \n",
       "10       0             1                    1            3   \n",
       "11       1             1                    1            1   \n",
       "12       1             1                    0            3   \n",
       "13       0             0                    1            2   \n",
       "14       1             0                    0            2   \n",
       "\n",
       "    Resource Allocation  Mental Fatigue Score  Burn Rate  \n",
       "0                   3.0                   3.8       0.16  \n",
       "1                   2.0                   5.0       0.36  \n",
       "2                   1.0                   2.6       0.20  \n",
       "3                   7.0                   6.9       0.52  \n",
       "4                   4.0                   3.6       0.29  \n",
       "5                   6.0                   7.9       0.62  \n",
       "6                   4.0                   4.4       0.33  \n",
       "7                   3.0                   5.3       0.50  \n",
       "8                   1.0                   1.8       0.12  \n",
       "9                   3.0                   5.8       0.51  \n",
       "10                  5.0                   4.7       0.32  \n",
       "11                  2.0                   5.9       0.39  \n",
       "12                  6.0                   6.7       0.59  \n",
       "13                  4.0                   4.0       0.22  \n",
       "14                  4.0                   7.6       0.57  "
      ]
     },
     "execution_count": 248,
     "metadata": {},
     "output_type": "execute_result"
    }
   ],
   "source": [
    "import pandas as pd\n",
    "import numpy as np\n",
    "import matplotlib.pyplot as plt\n",
    "\n",
    "df = pd.read_csv(\"/Users/nisha/Desktop/dataset2/train.csv\")\n",
    "\n",
    "\n",
    "df = df.copy()\n",
    "df = df.drop(['Employee ID', 'Date of Joining'], axis=1)\n",
    "# df = df.dropna(inplace = True) \n",
    "\n",
    "df = df.dropna()\n",
    "df = df.reset_index(drop=True)\n",
    "    \n",
    "#     # Drop rows with missing target values\n",
    "# missing_target_rows = df.loc[df['Burn Rate'].isna(), :].index\n",
    "# df = df.drop(missing_target_rows, axis=0).reset_index(drop=True)\n",
    "    \n",
    "# Fill remaining missing values with column means\n",
    "for column in ['Resource Allocation', 'Mental Fatigue Score']:\n",
    "    df[column] = df[column].fillna(df[column].mean())\n",
    "        \n",
    "\n",
    "df['Gender'] = df['Gender'].replace({'Female': 0, 'Male': 1})\n",
    "df['Company Type'] = df['Company Type'].replace({'Product': 0, 'Service': 1})\n",
    "df['WFH Setup Available'] = df['WFH Setup Available'].replace({'No': 0, 'Yes': 1})\n",
    "\n",
    "df.head(15)\n",
    "    \n",
    "\n"
   ]
  },
  {
   "cell_type": "markdown",
   "metadata": {},
   "source": [
    "Here's a summary of the data mapping:\n",
    "\n",
    "Gender:           \n",
    "0 = Female, \n",
    "1 = Male \n",
    "\n",
    "Company Type: \n",
    "Service: 1,\n",
    "Product: 0\n",
    "\n",
    "WFH Setup Allocation: \n",
    "No = 0,\n",
    "Yes = 1\n",
    "\n",
    "\n",
    "\n",
    "Splitting the dataset to train and test. 80% of data is used for training the model and 20% of it is used to test the performance of our model.\n"
   ]
  },
  {
   "cell_type": "markdown",
   "metadata": {},
   "source": [
    "# Classification with a Logistic Regression"
   ]
  },
  {
   "cell_type": "code",
   "execution_count": 249,
   "metadata": {},
   "outputs": [],
   "source": [
    "X = df[['Burn Rate','Mental Fatigue Score','Gender','Resource Allocation','Designation','WFH Setup Available']]\n",
    "\n",
    "y = df['Company Type']\n",
    "\n",
    "X_train,X_test,y_train,y_test = train_test_split(X,y,test_size=0.20,random_state=0)\n",
    "\n"
   ]
  },
  {
   "cell_type": "markdown",
   "metadata": {},
   "source": [
    "Feature scaling is a method used to normalize the range of independent variables or features of data. Though I didn't really have to perform feature scaling here, I did it anyways to see what the values can potentially look like. "
   ]
  },
  {
   "cell_type": "code",
   "execution_count": 251,
   "metadata": {},
   "outputs": [
    {
     "name": "stdout",
     "output_type": "stream",
     "text": [
      "[[ 1.05229064 -1.39265566 -1.08980123  0.72121416  1.22037517  1.17533276]\n",
      " [ 1.05229064  0.71805259 -1.08980123  0.72121416  1.22037517  0.34488286]\n",
      " [-0.95030779  0.71805259  0.91759852 -0.15858003 -0.72502508 -0.27795457]\n",
      " [ 1.05229064  0.71805259 -1.08980123  0.72121416  0.24767504  0.76010781]\n",
      " [ 1.05229064  0.71805259 -1.08980123 -0.15858003  0.24767504  0.29297974]]\n"
     ]
    }
   ],
   "source": [
    "from sklearn.preprocessing import StandardScaler\n",
    "sc_x = StandardScaler()\n",
    "x_train = sc_x.fit_transform(x_train) \n",
    "x_test = sc_x.transform(xtest)\n",
    "  \n",
    "print (x_train[0:5, :])"
   ]
  },
  {
   "cell_type": "markdown",
   "metadata": {},
   "source": [
    "Here I am training my Logistic Regression model. "
   ]
  },
  {
   "cell_type": "code",
   "execution_count": 250,
   "metadata": {},
   "outputs": [],
   "source": [
    "logistic_regression= LogisticRegression()\n",
    "logistic_regression.fit(X_train,y_train)\n",
    "y_pred=logistic_regression.predict(X_test)"
   ]
  },
  {
   "cell_type": "code",
   "execution_count": null,
   "metadata": {},
   "outputs": [],
   "source": [
    "Now we need to measure the perforace of the model. We do this by Confision Matrix. "
   ]
  },
  {
   "cell_type": "code",
   "execution_count": 254,
   "metadata": {},
   "outputs": [
    {
     "name": "stdout",
     "output_type": "stream",
     "text": [
      "Predicted     1\n",
      "Actual         \n",
      "0          1344\n",
      "1          2374\n"
     ]
    },
    {
     "data": {
      "image/png": "[encoded data removed]",
      "text/plain": [
       "<Figure size 432x288 with 2 Axes>"
      ]
     },
     "metadata": {
      "needs_background": "light"
     },
     "output_type": "display_data"
    }
   ],
   "source": [
    "import seaborn as sn\n",
    "from sklearn import metrics\n",
    "import matplotlib.pyplot as plt\n",
    "\n",
    "confusion_matrix = pd.crosstab(y_test, y_pred, rownames=['Actual'], colnames=['Predicted'])\n",
    "print(confusion_matrix)\n",
    "sn.heatmap(confusion_matrix, annot=True)\n",
    "plt.show()\n"
   ]
  },
  {
   "cell_type": "code",
   "execution_count": 253,
   "metadata": {},
   "outputs": [
    {
     "name": "stdout",
     "output_type": "stream",
     "text": [
      "Accuracy:  0.6385153308230231\n"
     ]
    }
   ],
   "source": [
    "print('Accuracy: ',metrics.accuracy_score(y_test, y_pred))\n",
    "plt.show()"
   ]
  },
  {
   "cell_type": "markdown",
   "metadata": {},
   "source": [
    "Through this logistic regression, I trained the datasets to predicts the company Type based on the data given. Gien 'Burn Rate', 'Mental Fatigue Score', 'Gender', 'Resource Allocation', 'Designation' and 'WFH Setup Available' the logistic regression is predicting whether or not the employee works at a service company or a product company. 0 indicates a product company and 1 indicates a service company. The error rate is 0.6385153308230231. Since it's above 60 it is somewhat accurate but can definitely improve. \n"
   ]
  },
  {
   "cell_type": "markdown",
   "metadata": {},
   "source": [
    "# Conclusion\n",
    "\n",
    "The relationship between burn rate and mental fatigue score of employees is linear. So as one increases the other also increases. The error rate of my regression was pretty close to 1 so it was a good fit. One thing I discovered is that if you want better accuracy or change of the regression value then playing with the size of the dataset may work. My logistic regression is predicting which type of company the employee works for based on the given columns such as burn rate, mental fatigue, etc. My error rate was about 64% accurate. In other words, my logistic regression model was able to successfully predict the company type based on burn rate, mental fatigue, etc 64%. To extend this project further, I would like to perform another classification model on my dataset and see if it can predict the burn rate or it can categorize the burn rate to describe which employees are more burned out than the others. It is really interesting to see that employees working from home feel burned out. This dataset really highlighted how important it is to take care of your mental health while working from home in the middle of a pandemic. It brings a great awareness that employers should be aware of the workload while assigning their employees work. The work should be doable within a certain period of time without stressing out the student. This also goes to students as professors assign more work to students as they think students have more time in their hands since they are at home. Mental health is often overlooked by employers and professors. \n",
    "\n",
    "\n"
   ]
  },
  {
   "cell_type": "code",
   "execution_count": null,
   "metadata": {},
   "outputs": [],
   "source": []
  }
 ],
 "metadata": {
  "kernelspec": {
   "display_name": "Python 3",
   "language": "python",
   "name": "python3"
  },
  "language_info": {
   "codemirror_mode": {
    "name": "ipython",
    "version": 3
   },
   "file_extension": ".py",
   "mimetype": "text/x-python",
   "name": "python",
   "nbconvert_exporter": "python",
   "pygments_lexer": "ipython3",
   "version": "3.8.5"
  }
 },
 "nbformat": 4,
 "nbformat_minor": 4
}
